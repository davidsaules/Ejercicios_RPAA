{
 "cells": [
  {
   "cell_type": "code",
   "execution_count": 3,
   "metadata": {
    "collapsed": true
   },
   "outputs": [],
   "source": [
    "%matplotlib inline\n",
    "import numpy as np\n",
    "import matplotlib.pyplot as plt\n",
    "\n",
    "from sklearn.preprocessing import PolynomialFeatures\n",
    "from sklearn.linear_model import LinearRegression\n",
    "from semana2_datos import *"
   ]
  },
  {
   "cell_type": "code",
   "execution_count": 4,
   "metadata": {
    "collapsed": true
   },
   "outputs": [],
   "source": [
    "\n",
    "x_1 = np.array([[1,x] for x, y in data_1])\n",
    "y_1 = np.array([ y for x, y in data_1])\n",
    "\n",
    "x_2 = np.array([[1,x] for x, y in data_2])\n",
    "y_2 = np.array([ y for x, y in data_2])\n",
    "\n",
    "x_3 = np.array([[1,x] for x, y in data_3])\n",
    "y_3 = np.array([ y for x, y in data_3])\n",
    "\n",
    "x_4 = np.array([[1,x] for x, y in data_4])\n",
    "y_4 = np.array([ y for x, y in data_4])\n",
    "\n",
    "x_real = np.array([[1,x] for x, y in data_real])\n",
    "y_real = np.array([ y for x, y in data_real])\n",
    "\n",
    "#data1\n",
    "x_1 = np.array([x for _, x in x_1]).reshape(-1, 1)\n",
    "x_2 = np.array([x for _, x in x_2]).reshape(-1, 1)\n",
    "x_3 = np.array([x for _, x in x_3]).reshape(-1, 1)\n",
    "x_4 = np.array([x for _, x in x_4]).reshape(-1, 1)\n",
    "#plt.scatter(x_1, y_1)\n",
    "\n",
    "\n",
    "# Data1\n",
    "x_1_train = x_1[:-20]\n",
    "x_1_test = x_1[-20:]\n",
    "\n",
    "y_1_train = y_1[:-20]\n",
    "y_1_test = y_1[-20:]\n",
    "\n",
    "# Data 2\n",
    "x_2_train = x_2[:-20]\n",
    "x_2_test = x_2[-20:]\n",
    "\n",
    "y_2_train = y_2[:-20]\n",
    "y_2_test = y_2[-20:]\n",
    "\n",
    "#Data 3\n",
    "x_3_train = x_3[:-20]\n",
    "x_3_test = x_3[-20:]\n",
    "\n",
    "y_3_train = y_3[:-20]\n",
    "y_3_test = y_3[-20:]\n",
    "\n",
    "# Data 4\n",
    "x_4_train = x_4[:-20]\n",
    "x_4_test = x_4[-20:]\n",
    "\n",
    "y_4_train = y_4[:-20]\n",
    "y_4_test = y_4[-20:]\n",
    "\n",
    "#Se utiliza el modelo de regresion lineal\n",
    "regresion = LinearRegression()\n"
   ]
  },
  {
   "cell_type": "code",
   "execution_count": 5,
   "metadata": {},
   "outputs": [
    {
     "data": {
      "image/png": "[encoded data removed]",
      "text/plain": [
       "<matplotlib.figure.Figure at 0x7fdcdcbc5a90>"
      ]
     },
     "metadata": {},
     "output_type": "display_data"
    }
   ],
   "source": [
    "#data 1\n",
    "regresion.fit(x_1_train, y_1_train)\n",
    "\n",
    "prediccion = regresion.predict(x_1_test)\n",
    "\n",
    "plt.scatter(x_1_test, y_1_test,  color='black')\n",
    "plt.plot(x_1_test, prediccion, color='blue', linewidth=3)\n",
    "\n",
    "plt.xticks(())\n",
    "plt.yticks(())\n",
    "\n",
    "plt.show()"
   ]
  },
  {
   "cell_type": "code",
   "execution_count": 6,
   "metadata": {},
   "outputs": [
    {
     "data": {
      "image/png": "[encoded data removed]",
      "text/plain": [
       "<matplotlib.figure.Figure at 0x7fdcdcbc5a20>"
      ]
     },
     "metadata": {},
     "output_type": "display_data"
    }
   ],
   "source": [
    "#data 2\n",
    "regresion.fit(x_2_train, y_2_train)\n",
    "\n",
    "prediccion2 = regresion.predict(x_2_test)\n",
    "\n",
    "plt.scatter(x_2_test, y_2_test,  color='black')\n",
    "plt.plot(x_2_test, prediccion2, color='blue', linewidth=3)\n",
    "\n",
    "plt.xticks(())\n",
    "plt.yticks(())\n",
    "\n",
    "plt.show()"
   ]
  },
  {
   "cell_type": "code",
   "execution_count": 7,
   "metadata": {},
   "outputs": [
    {
     "data": {
      "image/png": "[encoded data removed]",
      "text/plain": [
       "<matplotlib.figure.Figure at 0x7fdcc951ec18>"
      ]
     },
     "metadata": {},
     "output_type": "display_data"
    }
   ],
   "source": [
    "#data 3\n",
    "regresion.fit(x_3_train, y_3_train)\n",
    "\n",
    "prediccion3 = regresion.predict(x_3_test)\n",
    "\n",
    "plt.scatter(x_3_test, y_3_test,  color='black')\n",
    "plt.plot(x_3_test, prediccion3, color='blue', linewidth=3)\n",
    "\n",
    "plt.xticks(())\n",
    "plt.yticks(())\n",
    "\n",
    "plt.show()"
   ]
  },
  {
   "cell_type": "code",
   "execution_count": 8,
   "metadata": {},
   "outputs": [
    {
     "data": {
      "image/png": "[encoded data removed]",
      "text/plain": [
       "<matplotlib.figure.Figure at 0x7fdcc9500358>"
      ]
     },
     "metadata": {},
     "output_type": "display_data"
    }
   ],
   "source": [
    "#data 4\n",
    "regresion.fit(x_4_train, y_4_train)\n",
    "\n",
    "prediccion4 = regresion.predict(x_4_test)\n",
    "\n",
    "plt.scatter(x_4_test, y_4_test,  color='black')\n",
    "plt.plot(x_4_test, prediccion4, color='blue', linewidth=3)\n",
    "\n",
    "plt.xticks(())\n",
    "plt.yticks(())\n",
    "\n",
    "plt.show()"
   ]
  },
  {
   "cell_type": "code",
   "execution_count": null,
   "metadata": {
    "collapsed": true
   },
   "outputs": [],
   "source": []
  },
  {
   "cell_type": "code",
   "execution_count": null,
   "metadata": {
    "collapsed": true
   },
   "outputs": [],
   "source": []
  },
  {
   "cell_type": "code",
   "execution_count": null,
   "metadata": {
    "collapsed": true
   },
   "outputs": [],
   "source": []
  }
 ],
 "metadata": {
  "kernelspec": {
   "display_name": "Python 3",
   "language": "python",
   "name": "python3"
  },
  "language_info": {
   "codemirror_mode": {
    "name": "ipython",
    "version": 3
   },
   "file_extension": ".py",
   "mimetype": "text/x-python",
   "name": "python",
   "nbconvert_exporter": "python",
   "pygments_lexer": "ipython3",
   "version": "3.5.2"
  }
 },
 "nbformat": 4,
 "nbformat_minor": 2
}
